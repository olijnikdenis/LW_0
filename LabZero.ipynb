{
 "cells": [
  {
   "cell_type": "code",
   "execution_count": 1,
   "id": "d316c585",
   "metadata": {},
   "outputs": [
    {
     "name": "stdout",
     "output_type": "stream",
     "text": [
      "9\n"
     ]
    }
   ],
   "source": [
    "N = ord('D') % 10 + 1\n",
    "print(N)"
   ]
  },
  {
   "cell_type": "code",
   "execution_count": null,
   "id": "23b31d7d",
   "metadata": {},
   "outputs": [],
   "source": [
    "def is_prime(n):\n",
    "    if n <= 1:\n",
    "        return False\n",
    "    if n == 2:\n",
    "        return True\n",
    "    if n % 2 == 0:\n",
    "        return False\n",
    "    for i in range(3, int(n**0.5) + 1, 2):\n",
    "        if n % i == 0:\n",
    "            return False\n",
    "    return True\n",
    "\n",
    "def task_9():\n",
    "    nums = list(map(int, input().split()))\n",
    "    non_prime_nums = [num for num in nums if not is_prime(num)]\n",
    "    non_prime_nums.sort(reverse=True)\n",
    "    print(non_prime_nums)"
   ]
  },
  {
   "cell_type": "code",
   "execution_count": 6,
   "id": "c217bea3",
   "metadata": {},
   "outputs": [
    {
     "name": "stdout",
     "output_type": "stream",
     "text": [
      "3 12 15 7 11 35 18\n",
      "[35, 18, 15, 12]\n"
     ]
    }
   ],
   "source": [
    "task_9()"
   ]
  },
  {
   "cell_type": "markdown",
   "id": "b26e6cfe",
   "metadata": {},
   "source": [
    "# Чеська Республіка\n",
    "\n",
    "<div style=\"border: 2px solid #000; padding: 10px; background-color: #f5f5f5;\">\n",
    "  **Чеська Республіка** (Czech Republic) — країна в Центральній Європі, яка межує з Німеччиною, Польщею, Словаччиною та Австрією.\n",
    "</div>\n",
    "\n",
    "![Флаг Чеської Республіки](https://upload.wikimedia.org/wikipedia/commons/thumb/c/cb/Flag_of_the_Czech_Republic.svg/2560px-Flag_of_the_Czech_Republic.svg.png)\n",
    "\n",
    "## Основна інформація\n",
    "\n",
    "- **Столиця**: Прага\n",
    "- **Площа**: 78,866 км²\n",
    "- **Населення**: 10,693,939 (станом на 2023 рік)\n",
    "- **Державний устрій**: **парламентська республіка**\n",
    "- **Офіційна мова**: чеська\n",
    "\n",
    "<div style=\"color: green; border: 1px solid green; padding: 5px;\">\n",
    "  _Чеська Республіка є членом Європейського Союзу та НАТО._\n",
    "</div>\n",
    "\n",
    "### Видатні персоналії\n",
    "\n",
    "- **Томаш Масарик** — перший президент Чехословаччини.\n",
    "- **Вацлав Гавел** — драматург, есеїст, перший президент Чехії після падіння комунізму.\n",
    "- **Мілан Кундера** — всесвітньо відомий письменник.\n",
    "\n",
    "### Пам'ятки культури та природи\n",
    "\n",
    "1. **Прага**\n",
    "    - **Староміська площа**\n",
    "    - **Карлів міст**\n",
    "2. **Чеський Крумлов**\n",
    "    - **Замок Чеський Крумлов**\n",
    "    - **Історичний центр**\n",
    "3. **Національні парки**\n",
    "    - **Крконоше**\n",
    "    - **Шумава**\n",
    "\n",
    "### Таблиця з основними показниками\n",
    "\n",
    "| Показник         | Значення   |\n",
    "|------------------|------------|\n",
    "| Площа            | 78,866 км² |\n",
    "| Населення        | 10,693,939 |\n",
    "| Офіційна мова    | Чеська     |\n",
    "| Валюта           | Чеська крона (CZK) |\n",
    "| Членство в ЄС    | Так        |\n",
    "\n",
    "## Державний прапор\n",
    "\n",
    "<svg xmlns=\"http://www.w3.org/2000/svg\" width=\"200\" height=\"133\">\n",
    "  <rect width=\"200\" height=\"66\" fill=\"#ffffff\"/>\n",
    "  <rect y=\"66\" width=\"200\" height=\"66\" fill=\"#d7141a\"/>\n",
    "  <polygon points=\"0,0 100,66.5 0,133\" fill=\"#11457e\"/>\n",
    "</svg>\n",
    "\n",
    "[Дізнатися більше про Чехію](https://en.wikipedia.org/wiki/Czech_Republic)"
   ]
  }
 ],
 "metadata": {
  "kernelspec": {
   "display_name": "Python 3 (ipykernel)",
   "language": "python",
   "name": "python3"
  },
  "language_info": {
   "codemirror_mode": {
    "name": "ipython",
    "version": 3
   },
   "file_extension": ".py",
   "mimetype": "text/x-python",
   "name": "python",
   "nbconvert_exporter": "python",
   "pygments_lexer": "ipython3",
   "version": "3.11.5"
  }
 },
 "nbformat": 4,
 "nbformat_minor": 5
}
